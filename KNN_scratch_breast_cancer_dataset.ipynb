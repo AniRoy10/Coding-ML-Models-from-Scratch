{
 "cells": [
  {
   "cell_type": "code",
   "execution_count": 5,
   "id": "5bf31e1f-2301-4476-9e05-b9cac7c26a23",
   "metadata": {},
   "outputs": [],
   "source": [
    "from sklearn.datasets import load_breast_cancer\n",
    "\n",
    "cancer = load_breast_cancer()\n"
   ]
  },
  {
   "cell_type": "code",
   "execution_count": 6,
   "id": "a310e8bf-e8de-492f-add1-74d1befcc321",
   "metadata": {},
   "outputs": [],
   "source": [
    "X, y = cancer.data, cancer.target"
   ]
  },
  {
   "cell_type": "code",
   "execution_count": 7,
   "id": "05d276e7-fce5-42fb-a9c4-23a74389e878",
   "metadata": {},
   "outputs": [
    {
     "data": {
      "text/plain": [
       "array([[1.799e+01, 1.038e+01, 1.228e+02, ..., 2.654e-01, 4.601e-01,\n",
       "        1.189e-01],\n",
       "       [2.057e+01, 1.777e+01, 1.329e+02, ..., 1.860e-01, 2.750e-01,\n",
       "        8.902e-02],\n",
       "       [1.969e+01, 2.125e+01, 1.300e+02, ..., 2.430e-01, 3.613e-01,\n",
       "        8.758e-02],\n",
       "       ...,\n",
       "       [1.660e+01, 2.808e+01, 1.083e+02, ..., 1.418e-01, 2.218e-01,\n",
       "        7.820e-02],\n",
       "       [2.060e+01, 2.933e+01, 1.401e+02, ..., 2.650e-01, 4.087e-01,\n",
       "        1.240e-01],\n",
       "       [7.760e+00, 2.454e+01, 4.792e+01, ..., 0.000e+00, 2.871e-01,\n",
       "        7.039e-02]])"
      ]
     },
     "execution_count": 7,
     "metadata": {},
     "output_type": "execute_result"
    }
   ],
   "source": [
    "X"
   ]
  },
  {
   "cell_type": "code",
   "execution_count": 14,
   "id": "9472fb2c-8f4f-415a-899a-e62a0a785bcf",
   "metadata": {},
   "outputs": [],
   "source": [
    "import numpy as np\n",
    "import pandas as pd"
   ]
  },
  {
   "cell_type": "code",
   "execution_count": 15,
   "id": "5b53c3a7-6352-4ea3-b5c0-4f01e0ba7827",
   "metadata": {},
   "outputs": [],
   "source": [
    "class Knn:\n",
    "    def __init__(self,k=3):\n",
    "        self.k=k\n",
    "\n",
    "    def fit(self,X_train,y_train):\n",
    "        self.X_train=X_train\n",
    "        self.y_train=y_train\n",
    "\n",
    "    def predict(self,X_test):\n",
    "        pass\n",
    "\n",
    "    def _predict(self,x):\n",
    "        #distance of all the training points from the test point\n",
    "        distances=np.linalg.norm(self.X_train-x,axis=1)\n",
    "        #then we will find 'K' points with min distances -> 'k' indices where dist is minimum\n",
    "        k_indices=np.argsort(distances)[:self.k]\n",
    "        #picking those index values from X_train\n",
    "        closest_points = self.X_train[k_indices]\n",
    "        #equivalent indices value we will pick from Y_train\n",
    "        k_nearest_labels = self.y_train[k_indices]\n",
    "        #if [0,1,1,1,0] then counts=[2,3] ## 0 appears 2 times, 1 appears 3 times\n",
    "        counts = np.bincount(k_nearest_labels)\n",
    "        #this will return 1 as max element 3 is at index 1\n",
    "        most_common = counts.argmax()\n",
    "        return most_common\n",
    "\n",
    "    def predict(self,X_test):\n",
    "        return np.array([self._predict(x) for x in X_test])"
   ]
  },
  {
   "cell_type": "code",
   "execution_count": 16,
   "id": "191ec053-6ef4-468d-8a3a-7e7f144b4533",
   "metadata": {},
   "outputs": [],
   "source": [
    "from sklearn.model_selection import train_test_split\n",
    "X_train, X_test, y_train, y_test = train_test_split(X, y, test_size=0.2, random_state=42)"
   ]
  },
  {
   "cell_type": "code",
   "execution_count": 38,
   "id": "3e98e106-db56-45f1-90a7-54e75034d7c3",
   "metadata": {},
   "outputs": [],
   "source": [
    "knn=Knn(k=3)"
   ]
  },
  {
   "cell_type": "code",
   "execution_count": 35,
   "id": "664ec125-265c-459b-a96b-dac72f9d19ec",
   "metadata": {},
   "outputs": [],
   "source": [
    "knn.fit(X_train,y_train)"
   ]
  },
  {
   "cell_type": "code",
   "execution_count": 36,
   "id": "a20b03fa-6725-4b57-ba98-a977bdf907cc",
   "metadata": {},
   "outputs": [],
   "source": [
    "y_pred=knn.predict(X_test)"
   ]
  },
  {
   "cell_type": "code",
   "execution_count": 37,
   "id": "f764a643-f68a-4452-8d8f-26a1b46d85b8",
   "metadata": {},
   "outputs": [
    {
     "name": "stdout",
     "output_type": "stream",
     "text": [
      "0.9473684210526315\n"
     ]
    }
   ],
   "source": [
    "from sklearn.metrics import accuracy_score\n",
    "print(accuracy_score(y_test,y_pred))"
   ]
  },
  {
   "cell_type": "code",
   "execution_count": null,
   "id": "dcb424c0-1f53-475c-9ba1-beb647ec4ea1",
   "metadata": {},
   "outputs": [],
   "source": []
  }
 ],
 "metadata": {
  "kernelspec": {
   "display_name": "Python 3 (ipykernel)",
   "language": "python",
   "name": "python3"
  },
  "language_info": {
   "codemirror_mode": {
    "name": "ipython",
    "version": 3
   },
   "file_extension": ".py",
   "mimetype": "text/x-python",
   "name": "python",
   "nbconvert_exporter": "python",
   "pygments_lexer": "ipython3",
   "version": "3.11.7"
  }
 },
 "nbformat": 4,
 "nbformat_minor": 5
}
