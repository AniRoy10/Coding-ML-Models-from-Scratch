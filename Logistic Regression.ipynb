{
 "cells": [
  {
   "cell_type": "code",
   "execution_count": 9,
   "id": "452c0524-858f-44e5-812c-9862ed02695a",
   "metadata": {},
   "outputs": [],
   "source": [
    "import numpy as np\n",
    "import pandas as pd"
   ]
  },
  {
   "cell_type": "code",
   "execution_count": 10,
   "id": "62e3a8b1-7598-40c6-b4eb-9112920727cd",
   "metadata": {},
   "outputs": [
    {
     "data": {
      "text/html": [
       "<div>\n",
       "<style scoped>\n",
       "    .dataframe tbody tr th:only-of-type {\n",
       "        vertical-align: middle;\n",
       "    }\n",
       "\n",
       "    .dataframe tbody tr th {\n",
       "        vertical-align: top;\n",
       "    }\n",
       "\n",
       "    .dataframe thead th {\n",
       "        text-align: right;\n",
       "    }\n",
       "</style>\n",
       "<table border=\"1\" class=\"dataframe\">\n",
       "  <thead>\n",
       "    <tr style=\"text-align: right;\">\n",
       "      <th></th>\n",
       "      <th>Hours_Studied</th>\n",
       "      <th>Hours_Sleep</th>\n",
       "      <th>Study_Method</th>\n",
       "      <th>Previous_Grades</th>\n",
       "      <th>Passed</th>\n",
       "    </tr>\n",
       "  </thead>\n",
       "  <tbody>\n",
       "    <tr>\n",
       "      <th>0</th>\n",
       "      <td>8.201063</td>\n",
       "      <td>8.115749</td>\n",
       "      <td>Solo</td>\n",
       "      <td>73.329943</td>\n",
       "      <td>1.0</td>\n",
       "    </tr>\n",
       "    <tr>\n",
       "      <th>1</th>\n",
       "      <td>8.464963</td>\n",
       "      <td>8.147898</td>\n",
       "      <td>Solo</td>\n",
       "      <td>92.227122</td>\n",
       "      <td>1.0</td>\n",
       "    </tr>\n",
       "    <tr>\n",
       "      <th>2</th>\n",
       "      <td>1.786155</td>\n",
       "      <td>5.291622</td>\n",
       "      <td>Solo</td>\n",
       "      <td>16.905044</td>\n",
       "      <td>0.0</td>\n",
       "    </tr>\n",
       "    <tr>\n",
       "      <th>3</th>\n",
       "      <td>7.452022</td>\n",
       "      <td>8.600804</td>\n",
       "      <td>Solo</td>\n",
       "      <td>88.316403</td>\n",
       "      <td>1.0</td>\n",
       "    </tr>\n",
       "    <tr>\n",
       "      <th>4</th>\n",
       "      <td>1.662534</td>\n",
       "      <td>4.668477</td>\n",
       "      <td>Group</td>\n",
       "      <td>36.937423</td>\n",
       "      <td>0.0</td>\n",
       "    </tr>\n",
       "  </tbody>\n",
       "</table>\n",
       "</div>"
      ],
      "text/plain": [
       "   Hours_Studied  Hours_Sleep Study_Method  Previous_Grades  Passed\n",
       "0       8.201063     8.115749         Solo        73.329943     1.0\n",
       "1       8.464963     8.147898         Solo        92.227122     1.0\n",
       "2       1.786155     5.291622         Solo        16.905044     0.0\n",
       "3       7.452022     8.600804         Solo        88.316403     1.0\n",
       "4       1.662534     4.668477        Group        36.937423     0.0"
      ]
     },
     "execution_count": 10,
     "metadata": {},
     "output_type": "execute_result"
    }
   ],
   "source": [
    "df=pd.read_csv('exam.csv')\n",
    "df.head()"
   ]
  },
  {
   "cell_type": "code",
   "execution_count": 11,
   "id": "1596453b-facf-444f-a4db-42851a432707",
   "metadata": {},
   "outputs": [
    {
     "data": {
      "text/plain": [
       "array(['Solo', 'Group'], dtype=object)"
      ]
     },
     "execution_count": 11,
     "metadata": {},
     "output_type": "execute_result"
    }
   ],
   "source": [
    "df['Study_Method'].unique()"
   ]
  },
  {
   "cell_type": "code",
   "execution_count": 12,
   "id": "17fd837c-636f-47b2-a3f4-2dfbaeb4c50e",
   "metadata": {},
   "outputs": [],
   "source": [
    "df['Study_Method']=df['Study_Method'].map({'Solo':0,'Group':1})"
   ]
  },
  {
   "cell_type": "code",
   "execution_count": 13,
   "id": "d1bee218-7754-409f-922c-a95c5a89a9a4",
   "metadata": {},
   "outputs": [
    {
     "data": {
      "text/html": [
       "<div>\n",
       "<style scoped>\n",
       "    .dataframe tbody tr th:only-of-type {\n",
       "        vertical-align: middle;\n",
       "    }\n",
       "\n",
       "    .dataframe tbody tr th {\n",
       "        vertical-align: top;\n",
       "    }\n",
       "\n",
       "    .dataframe thead th {\n",
       "        text-align: right;\n",
       "    }\n",
       "</style>\n",
       "<table border=\"1\" class=\"dataframe\">\n",
       "  <thead>\n",
       "    <tr style=\"text-align: right;\">\n",
       "      <th></th>\n",
       "      <th>Hours_Studied</th>\n",
       "      <th>Hours_Sleep</th>\n",
       "      <th>Study_Method</th>\n",
       "      <th>Previous_Grades</th>\n",
       "      <th>Passed</th>\n",
       "    </tr>\n",
       "  </thead>\n",
       "  <tbody>\n",
       "    <tr>\n",
       "      <th>0</th>\n",
       "      <td>8.201063</td>\n",
       "      <td>8.115749</td>\n",
       "      <td>0</td>\n",
       "      <td>73.329943</td>\n",
       "      <td>1.0</td>\n",
       "    </tr>\n",
       "    <tr>\n",
       "      <th>1</th>\n",
       "      <td>8.464963</td>\n",
       "      <td>8.147898</td>\n",
       "      <td>0</td>\n",
       "      <td>92.227122</td>\n",
       "      <td>1.0</td>\n",
       "    </tr>\n",
       "    <tr>\n",
       "      <th>2</th>\n",
       "      <td>1.786155</td>\n",
       "      <td>5.291622</td>\n",
       "      <td>0</td>\n",
       "      <td>16.905044</td>\n",
       "      <td>0.0</td>\n",
       "    </tr>\n",
       "    <tr>\n",
       "      <th>3</th>\n",
       "      <td>7.452022</td>\n",
       "      <td>8.600804</td>\n",
       "      <td>0</td>\n",
       "      <td>88.316403</td>\n",
       "      <td>1.0</td>\n",
       "    </tr>\n",
       "    <tr>\n",
       "      <th>4</th>\n",
       "      <td>1.662534</td>\n",
       "      <td>4.668477</td>\n",
       "      <td>1</td>\n",
       "      <td>36.937423</td>\n",
       "      <td>0.0</td>\n",
       "    </tr>\n",
       "  </tbody>\n",
       "</table>\n",
       "</div>"
      ],
      "text/plain": [
       "   Hours_Studied  Hours_Sleep  Study_Method  Previous_Grades  Passed\n",
       "0       8.201063     8.115749             0        73.329943     1.0\n",
       "1       8.464963     8.147898             0        92.227122     1.0\n",
       "2       1.786155     5.291622             0        16.905044     0.0\n",
       "3       7.452022     8.600804             0        88.316403     1.0\n",
       "4       1.662534     4.668477             1        36.937423     0.0"
      ]
     },
     "execution_count": 13,
     "metadata": {},
     "output_type": "execute_result"
    }
   ],
   "source": [
    "df.head()"
   ]
  },
  {
   "cell_type": "code",
   "execution_count": 14,
   "id": "373aa789-8ef4-4306-9d79-766776ed111a",
   "metadata": {},
   "outputs": [
    {
     "data": {
      "text/plain": [
       "Passed\n",
       "1.0    750\n",
       "0.0    250\n",
       "Name: count, dtype: int64"
      ]
     },
     "execution_count": 14,
     "metadata": {},
     "output_type": "execute_result"
    }
   ],
   "source": [
    "df['Passed'].value_counts()"
   ]
  },
  {
   "cell_type": "code",
   "execution_count": 17,
   "id": "c56c1da4-467e-42bd-b8ae-51f67439e76d",
   "metadata": {},
   "outputs": [],
   "source": [
    "class LogisticRegression:\n",
    "    \n",
    "    def __init__(self,lr=0.1,epochs=10):\n",
    "        self.lr=lr\n",
    "        self.epochs=epochs\n",
    "        self.coef_=None\n",
    "        self.intercept_=None\n",
    "\n",
    "    def sigmoid(self,z):\n",
    "        return 1/(1+np.exp(-z))\n",
    "\n",
    "    def fit(self,X_train,y_train):\n",
    "        X_train = np.insert(X_train,0,1,axis=1)\n",
    "        weights=np.zeros(X_train.shape[1])\n",
    "\n",
    "        for i in range(self.epochs):\n",
    "            y_hat=self.sigmoid(np.dot(X_train,weights))\n",
    "            weights+=self.lr*np.dot((y_train-y_hat),X_train)/X_train.shape[0]\n",
    "        self.intercept_= weights[0]\n",
    "        self.coef_= weights[1:]\n",
    "\n",
    "    def predict(self,X_test):\n",
    "        # Insert a column of ones for the intercept in test data\n",
    "        X_test = np.insert(X_test, 0, 1, axis=1)\n",
    "        a = self.sigmoid(np.dot(X_test, np.append(self.intercept_, self.coef_)))\n",
    "\n",
    "        return np.where(a >= 0.5, 1, 0)\n",
    "\n",
    "\n",
    "\n",
    "\n",
    "        \n",
    "        \n",
    "    "
   ]
  },
  {
   "cell_type": "markdown",
   "id": "1bb7a2b1-8e9c-4b1a-b2c8-db3bb2ca425f",
   "metadata": {},
   "source": [
    "## In Logistic Regression we add np.insert(X_test, 0, 1, axis=1) in test data as well but in Linear Reg. we do only for training data , why?\n",
    "\n",
    "### Closed-form vs. Iterative: Linear regression can use a closed-form solution to find coefficients, whereas logistic regression typically uses gradient descent to optimize the weights iteratively."
   ]
  },
  {
   "cell_type": "code",
   "execution_count": 19,
   "id": "b6527577-859d-4d6e-a857-7c7fa1a742aa",
   "metadata": {},
   "outputs": [
    {
     "data": {
      "text/html": [
       "<div>\n",
       "<style scoped>\n",
       "    .dataframe tbody tr th:only-of-type {\n",
       "        vertical-align: middle;\n",
       "    }\n",
       "\n",
       "    .dataframe tbody tr th {\n",
       "        vertical-align: top;\n",
       "    }\n",
       "\n",
       "    .dataframe thead th {\n",
       "        text-align: right;\n",
       "    }\n",
       "</style>\n",
       "<table border=\"1\" class=\"dataframe\">\n",
       "  <thead>\n",
       "    <tr style=\"text-align: right;\">\n",
       "      <th></th>\n",
       "      <th>Hours_Studied</th>\n",
       "      <th>Hours_Sleep</th>\n",
       "      <th>Study_Method</th>\n",
       "      <th>Previous_Grades</th>\n",
       "      <th>Passed</th>\n",
       "    </tr>\n",
       "  </thead>\n",
       "  <tbody>\n",
       "    <tr>\n",
       "      <th>0</th>\n",
       "      <td>8.201063</td>\n",
       "      <td>8.115749</td>\n",
       "      <td>0</td>\n",
       "      <td>73.329943</td>\n",
       "      <td>1.0</td>\n",
       "    </tr>\n",
       "  </tbody>\n",
       "</table>\n",
       "</div>"
      ],
      "text/plain": [
       "   Hours_Studied  Hours_Sleep  Study_Method  Previous_Grades  Passed\n",
       "0       8.201063     8.115749             0        73.329943     1.0"
      ]
     },
     "execution_count": 19,
     "metadata": {},
     "output_type": "execute_result"
    }
   ],
   "source": [
    "df.head(1)"
   ]
  },
  {
   "cell_type": "code",
   "execution_count": 21,
   "id": "d4bc8278-b87c-4c84-856f-fa50cc0ce1e1",
   "metadata": {},
   "outputs": [],
   "source": [
    "from sklearn.model_selection import train_test_split\n",
    "from sklearn.metrics import accuracy_score"
   ]
  },
  {
   "cell_type": "code",
   "execution_count": 22,
   "id": "d9f61384-501c-4a75-8312-a0b0f40c6a4f",
   "metadata": {},
   "outputs": [],
   "source": [
    "X=df.iloc[:,:-1].values\n",
    "y=df.iloc[:,-1].values"
   ]
  },
  {
   "cell_type": "code",
   "execution_count": 23,
   "id": "079ee729-0963-4c09-9458-600d97a5f6fd",
   "metadata": {},
   "outputs": [],
   "source": [
    "X_train,X_test,y_train,y_test=train_test_split(X,y,test_size=0.2,random_state=42)"
   ]
  },
  {
   "cell_type": "code",
   "execution_count": 26,
   "id": "191e98f9-619d-49bd-93bf-da45cd728a4d",
   "metadata": {},
   "outputs": [],
   "source": [
    "lr=LogisticRegression()\n",
    "lr.fit(X_train,y_train)\n"
   ]
  },
  {
   "cell_type": "code",
   "execution_count": 27,
   "id": "f98564d4-427a-4319-931a-5be4a4e0281f",
   "metadata": {},
   "outputs": [],
   "source": [
    "y_pred=lr.predict(X_test)"
   ]
  },
  {
   "cell_type": "code",
   "execution_count": 28,
   "id": "0d3c4623-3a71-42ff-aa80-18cd4bb32f7c",
   "metadata": {},
   "outputs": [
    {
     "name": "stdout",
     "output_type": "stream",
     "text": [
      "0.74\n"
     ]
    }
   ],
   "source": [
    "print(accuracy_score(y_test,y_pred))"
   ]
  },
  {
   "cell_type": "code",
   "execution_count": null,
   "id": "0e3dff9a-7bf6-4ffa-913e-2438a5a60152",
   "metadata": {},
   "outputs": [],
   "source": []
  }
 ],
 "metadata": {
  "kernelspec": {
   "display_name": "Python 3 (ipykernel)",
   "language": "python",
   "name": "python3"
  },
  "language_info": {
   "codemirror_mode": {
    "name": "ipython",
    "version": 3
   },
   "file_extension": ".py",
   "mimetype": "text/x-python",
   "name": "python",
   "nbconvert_exporter": "python",
   "pygments_lexer": "ipython3",
   "version": "3.11.7"
  }
 },
 "nbformat": 4,
 "nbformat_minor": 5
}
