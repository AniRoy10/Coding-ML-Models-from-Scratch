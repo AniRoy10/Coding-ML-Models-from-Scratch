{
 "cells": [
  {
   "cell_type": "code",
   "execution_count": 81,
   "id": "6ed0cd13-d9af-4215-ae5c-ede0dd75d4b3",
   "metadata": {},
   "outputs": [],
   "source": [
    "class Lr:\n",
    "    def __init__(self):\n",
    "        self.m=None\n",
    "        self.b=None\n",
    "        \n",
    "    def fit(self,X_train,y_train):\n",
    "        num=0\n",
    "        den=0\n",
    "        for i in range(X_train.shape[0]):\n",
    "            num+=((X_train[i]-X_train.mean())*(y_train[i]-y_train.mean()))\n",
    "            den+=(X_train[i]-X_train.mean())**2\n",
    " \n",
    "\n",
    "        self.m=num/den\n",
    "        self.b=(y_train.mean()-(self.m*X_train.mean()))\n",
    "        print(self.m)\n",
    "        print(self.b)\n",
    "       \n",
    "\n",
    "        \n",
    "    def predict(self,X_test):\n",
    "        return (self.m*X_test)+self.b"
   ]
  },
  {
   "cell_type": "markdown",
   "id": "54f9ebfd-aa16-4ebb-ad3a-d54746533407",
   "metadata": {},
   "source": [
    "### Need to figure out optimal value of m,b \n",
    "\n",
    "#### b=(y.mean()-(m*X.mean()) \n",
    "\n",
    "#### m= sum of ((x_i-x.mean())(y_i-y.mean()))/(x_i-x.mean())**2"
   ]
  },
  {
   "cell_type": "code",
   "execution_count": 82,
   "id": "30289897-b2dd-4395-937c-80bc79d13263",
   "metadata": {},
   "outputs": [],
   "source": [
    "#       x_b=np.c_[np.ones((self.X.shape[0],1),X]\n",
    "#       self.coefficients=np.zeros(X.shape[1])\n",
    "#       y_pred=np.dot(x_b,self.coefficients)"
   ]
  },
  {
   "cell_type": "code",
   "execution_count": 83,
   "id": "994e4613-dd9c-4aee-b334-72c43fc919ed",
   "metadata": {},
   "outputs": [
    {
     "data": {
      "text/html": [
       "<div>\n",
       "<style scoped>\n",
       "    .dataframe tbody tr th:only-of-type {\n",
       "        vertical-align: middle;\n",
       "    }\n",
       "\n",
       "    .dataframe tbody tr th {\n",
       "        vertical-align: top;\n",
       "    }\n",
       "\n",
       "    .dataframe thead th {\n",
       "        text-align: right;\n",
       "    }\n",
       "</style>\n",
       "<table border=\"1\" class=\"dataframe\">\n",
       "  <thead>\n",
       "    <tr style=\"text-align: right;\">\n",
       "      <th></th>\n",
       "      <th>Hours</th>\n",
       "      <th>Scores</th>\n",
       "    </tr>\n",
       "  </thead>\n",
       "  <tbody>\n",
       "    <tr>\n",
       "      <th>0</th>\n",
       "      <td>2.5</td>\n",
       "      <td>21</td>\n",
       "    </tr>\n",
       "    <tr>\n",
       "      <th>1</th>\n",
       "      <td>5.1</td>\n",
       "      <td>47</td>\n",
       "    </tr>\n",
       "    <tr>\n",
       "      <th>2</th>\n",
       "      <td>3.2</td>\n",
       "      <td>27</td>\n",
       "    </tr>\n",
       "    <tr>\n",
       "      <th>3</th>\n",
       "      <td>8.5</td>\n",
       "      <td>75</td>\n",
       "    </tr>\n",
       "    <tr>\n",
       "      <th>4</th>\n",
       "      <td>3.5</td>\n",
       "      <td>30</td>\n",
       "    </tr>\n",
       "  </tbody>\n",
       "</table>\n",
       "</div>"
      ],
      "text/plain": [
       "   Hours  Scores\n",
       "0    2.5      21\n",
       "1    5.1      47\n",
       "2    3.2      27\n",
       "3    8.5      75\n",
       "4    3.5      30"
      ]
     },
     "execution_count": 83,
     "metadata": {},
     "output_type": "execute_result"
    }
   ],
   "source": [
    "import numpy as np\n",
    "import pandas as pd\n",
    "from sklearn.model_selection import train_test_split\n",
    "df=pd.read_csv('studentscores.csv')\n",
    "df.head()"
   ]
  },
  {
   "cell_type": "code",
   "execution_count": 84,
   "id": "0c7458e7-a8b6-4092-8804-41771eb6aab6",
   "metadata": {},
   "outputs": [],
   "source": [
    "X=df.iloc[:,:1].values\n",
    "y=df.iloc[:,-1].values"
   ]
  },
  {
   "cell_type": "code",
   "execution_count": 85,
   "id": "77d6ef2f-df43-4235-a275-d20308729ea9",
   "metadata": {},
   "outputs": [
    {
     "name": "stdout",
     "output_type": "stream",
     "text": [
      "shape of X is: (25, 1) and shape of y is: (25,)\n"
     ]
    }
   ],
   "source": [
    "print('shape of X is:',X.shape,'and shape of y is:',y.shape)"
   ]
  },
  {
   "cell_type": "code",
   "execution_count": 86,
   "id": "e40c49f1-7e17-4066-a73e-dcbc4e1737d9",
   "metadata": {},
   "outputs": [],
   "source": [
    "X_train,X_test,y_train,y_test=train_test_split(X,y,test_size=0.2,random_state=42)"
   ]
  },
  {
   "cell_type": "code",
   "execution_count": 87,
   "id": "22376366-1e3b-4d02-9100-f5f3c3adba11",
   "metadata": {},
   "outputs": [
    {
     "data": {
      "text/plain": [
       "(20, 1)"
      ]
     },
     "execution_count": 87,
     "metadata": {},
     "output_type": "execute_result"
    }
   ],
   "source": [
    "X_train.shape"
   ]
  },
  {
   "cell_type": "code",
   "execution_count": 88,
   "id": "aed2c930-e3bd-4478-9b8b-5c37c8a5bd8f",
   "metadata": {},
   "outputs": [],
   "source": [
    "lr=Lr()"
   ]
  },
  {
   "cell_type": "code",
   "execution_count": 89,
   "id": "ce576d4f-ca0a-4131-be01-db3750d694c8",
   "metadata": {},
   "outputs": [
    {
     "name": "stdout",
     "output_type": "stream",
     "text": [
      "[9.68207815]\n",
      "[2.82689235]\n"
     ]
    }
   ],
   "source": [
    "lr.fit(X_train,y_train)"
   ]
  },
  {
   "cell_type": "code",
   "execution_count": 90,
   "id": "57c54237-3b6e-411e-aba7-9d1af52be911",
   "metadata": {},
   "outputs": [],
   "source": [
    "y_pred=lr.predict(X_test)"
   ]
  },
  {
   "cell_type": "code",
   "execution_count": 91,
   "id": "dd4c82b9-e460-48d1-bbfc-4a760e7d3181",
   "metadata": {},
   "outputs": [
    {
     "data": {
      "text/plain": [
       "array([8.3])"
      ]
     },
     "execution_count": 91,
     "metadata": {},
     "output_type": "execute_result"
    }
   ],
   "source": [
    "X_test[0]"
   ]
  },
  {
   "cell_type": "code",
   "execution_count": 92,
   "id": "a4d62193-20f2-4e6d-a617-51e177e57c16",
   "metadata": {},
   "outputs": [
    {
     "data": {
      "text/plain": [
       "array([83.18814104])"
      ]
     },
     "execution_count": 92,
     "metadata": {},
     "output_type": "execute_result"
    }
   ],
   "source": [
    "lr.predict(X_test[0])"
   ]
  },
  {
   "cell_type": "code",
   "execution_count": 94,
   "id": "a2cf23da-c80c-4a79-bcb3-415335e02d29",
   "metadata": {},
   "outputs": [
    {
     "data": {
      "text/plain": [
       "81"
      ]
     },
     "execution_count": 94,
     "metadata": {},
     "output_type": "execute_result"
    }
   ],
   "source": [
    "y_test[0]"
   ]
  },
  {
   "cell_type": "code",
   "execution_count": null,
   "id": "044043de-5b42-43c1-a83e-ac3720e15486",
   "metadata": {},
   "outputs": [],
   "source": []
  }
 ],
 "metadata": {
  "kernelspec": {
   "display_name": "Python 3 (ipykernel)",
   "language": "python",
   "name": "python3"
  },
  "language_info": {
   "codemirror_mode": {
    "name": "ipython",
    "version": 3
   },
   "file_extension": ".py",
   "mimetype": "text/x-python",
   "name": "python",
   "nbconvert_exporter": "python",
   "pygments_lexer": "ipython3",
   "version": "3.11.7"
  }
 },
 "nbformat": 4,
 "nbformat_minor": 5
}
