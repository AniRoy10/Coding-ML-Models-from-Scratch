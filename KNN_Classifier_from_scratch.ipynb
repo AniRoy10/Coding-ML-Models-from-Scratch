{
 "cells": [
  {
   "cell_type": "code",
   "execution_count": 3,
   "id": "a966013f-b737-4a9b-891e-2b86cd0b3f8f",
   "metadata": {},
   "outputs": [],
   "source": [
    "import numpy as np\n",
    "import pandas as pd\n"
   ]
  },
  {
   "cell_type": "code",
   "execution_count": 4,
   "id": "5856786c-f846-44e8-9636-a4bf8b9d01b5",
   "metadata": {},
   "outputs": [
    {
     "data": {
      "text/html": [
       "<div>\n",
       "<style scoped>\n",
       "    .dataframe tbody tr th:only-of-type {\n",
       "        vertical-align: middle;\n",
       "    }\n",
       "\n",
       "    .dataframe tbody tr th {\n",
       "        vertical-align: top;\n",
       "    }\n",
       "\n",
       "    .dataframe thead th {\n",
       "        text-align: right;\n",
       "    }\n",
       "</style>\n",
       "<table border=\"1\" class=\"dataframe\">\n",
       "  <thead>\n",
       "    <tr style=\"text-align: right;\">\n",
       "      <th></th>\n",
       "      <th>age</th>\n",
       "      <th>income</th>\n",
       "      <th>spending_score</th>\n",
       "      <th>target</th>\n",
       "    </tr>\n",
       "  </thead>\n",
       "  <tbody>\n",
       "    <tr>\n",
       "      <th>0</th>\n",
       "      <td>56</td>\n",
       "      <td>54674</td>\n",
       "      <td>44</td>\n",
       "      <td>0</td>\n",
       "    </tr>\n",
       "    <tr>\n",
       "      <th>1</th>\n",
       "      <td>69</td>\n",
       "      <td>55854</td>\n",
       "      <td>49</td>\n",
       "      <td>0</td>\n",
       "    </tr>\n",
       "    <tr>\n",
       "      <th>2</th>\n",
       "      <td>46</td>\n",
       "      <td>66271</td>\n",
       "      <td>75</td>\n",
       "      <td>1</td>\n",
       "    </tr>\n",
       "    <tr>\n",
       "      <th>3</th>\n",
       "      <td>32</td>\n",
       "      <td>93688</td>\n",
       "      <td>61</td>\n",
       "      <td>1</td>\n",
       "    </tr>\n",
       "    <tr>\n",
       "      <th>4</th>\n",
       "      <td>60</td>\n",
       "      <td>58518</td>\n",
       "      <td>67</td>\n",
       "      <td>0</td>\n",
       "    </tr>\n",
       "  </tbody>\n",
       "</table>\n",
       "</div>"
      ],
      "text/plain": [
       "   age  income  spending_score  target\n",
       "0   56   54674              44       0\n",
       "1   69   55854              49       0\n",
       "2   46   66271              75       1\n",
       "3   32   93688              61       1\n",
       "4   60   58518              67       0"
      ]
     },
     "execution_count": 4,
     "metadata": {},
     "output_type": "execute_result"
    }
   ],
   "source": [
    "data.head()"
   ]
  },
  {
   "cell_type": "markdown",
   "id": "4297cdfc-8d06-4426-a01e-85a5772de288",
   "metadata": {},
   "source": [
    "### working principle of KNN is , suppose If i have a new datapoint X_test[i] then it will calculate the distance of all the training data from this point and , the 'K' number of data points with closest distance from the test data it will consider those"
   ]
  },
  {
   "cell_type": "code",
   "execution_count": 9,
   "id": "3f3086e1-8568-4d22-b867-2b69014152d9",
   "metadata": {},
   "outputs": [],
   "source": [
    "class Knn:\n",
    "    def __init__(self,k=3):\n",
    "        self.k=k\n",
    "\n",
    "    def fit(self,X_train,y_train):\n",
    "        self.X_train=X_train\n",
    "        self.y_train=y_train\n",
    "\n",
    "    def predict(self,X_test):\n",
    "        pass\n",
    "\n",
    "    def _predict(self,x):\n",
    "        #distance of all the training points from the test point\n",
    "        distances=np.linalg.norm(self.X_train-x,axis=1)\n",
    "        #then we will find 'K' points with min distances -> 'k' indices where dist is minimum\n",
    "        k_indices=np.argsort(distances)[:self.k]\n",
    "        #picking those index values from X_train\n",
    "        closest_points = self.X_train[k_indices]\n",
    "        #equivalent indices value we will pick from Y_train\n",
    "        k_nearest_labels = self.y_train[k_indices]\n",
    "        #if [0,1,1,1,0] then counts=[2,3] ## 0 appears 2 times, 1 appears 3 times\n",
    "        counts = np.bincount(k_nearest_labels)\n",
    "        #this will return 1 as max element 3 is at index 1\n",
    "        most_common = counts.argmax()\n",
    "        return most_common\n",
    "\n",
    "    def predict(self,X_test):\n",
    "        return np.array([self._predict(x) for x in X_test])\n",
    "\n",
    "\n",
    "        \n",
    "        "
   ]
  },
  {
   "cell_type": "markdown",
   "id": "9a8a2d1c-dbfa-4868-a2a8-fccbf87f62b0",
   "metadata": {},
   "source": [
    "####  np.argsort is soting the indices, based on their index values"
   ]
  },
  {
   "cell_type": "code",
   "execution_count": 10,
   "id": "3a6962bb-22f9-44ce-a87e-694b2744fb92",
   "metadata": {},
   "outputs": [],
   "source": [
    "from sklearn.model_selection import train_test_split\n",
    "from sklearn.preprocessing import StandardScaler"
   ]
  },
  {
   "cell_type": "code",
   "execution_count": 11,
   "id": "319be1f9-88df-48e5-87a2-1ff6b5f7ca9e",
   "metadata": {},
   "outputs": [],
   "source": [
    "X=data.iloc[:,:-1].values\n",
    "y=data.iloc[:,-1].values"
   ]
  },
  {
   "cell_type": "code",
   "execution_count": 12,
   "id": "8fd7324b-0253-4283-a6ef-3a1ba2e710b7",
   "metadata": {},
   "outputs": [
    {
     "data": {
      "text/plain": [
       "array([[    56,  54674,     44],\n",
       "       [    69,  55854,     49],\n",
       "       [    46,  66271,     75],\n",
       "       ...,\n",
       "       [    62,  95897,     31],\n",
       "       [    35, 101905,     60],\n",
       "       [    55,  88577,     60]])"
      ]
     },
     "execution_count": 12,
     "metadata": {},
     "output_type": "execute_result"
    }
   ],
   "source": [
    "X"
   ]
  },
  {
   "cell_type": "code",
   "execution_count": 13,
   "id": "92265bc5-7a2e-416c-a837-c044d91b28ff",
   "metadata": {},
   "outputs": [],
   "source": [
    " X_train, X_test, y_train, y_test = train_test_split(X, y, test_size=0.2, random_state=42)"
   ]
  },
  {
   "cell_type": "code",
   "execution_count": 14,
   "id": "4bdbf571-709b-4f6c-a497-fa2efd3f757b",
   "metadata": {},
   "outputs": [],
   "source": [
    "    scaler = StandardScaler()\n",
    "    X_train = scaler.fit_transform(X_train)\n",
    "    X_test = scaler.transform(X_test)"
   ]
  },
  {
   "cell_type": "code",
   "execution_count": 15,
   "id": "01451377-dfe5-458b-968c-b0dee9e153a0",
   "metadata": {},
   "outputs": [
    {
     "data": {
      "text/plain": [
       "array([[-0.12149869,  1.09560164, -1.5276289 ],\n",
       "       [-1.4818759 , -1.49391776, -0.61784963],\n",
       "       [ 1.4429351 ,  0.19539349,  0.46040728],\n",
       "       ...,\n",
       "       [ 0.49067105, -0.79440093, -0.88741386],\n",
       "       [ 1.30689738, -1.12107619, -0.51676305],\n",
       "       [-0.12149869, -1.43996437, -1.22436915]])"
      ]
     },
     "execution_count": 15,
     "metadata": {},
     "output_type": "execute_result"
    }
   ],
   "source": [
    "X_train"
   ]
  },
  {
   "cell_type": "code",
   "execution_count": 34,
   "id": "054d12a4-9000-446b-bf5c-09c71eadc9af",
   "metadata": {},
   "outputs": [],
   "source": [
    "knn=Knn(k=2)"
   ]
  },
  {
   "cell_type": "code",
   "execution_count": 35,
   "id": "86b482d0-81f9-449a-b870-167c81589237",
   "metadata": {},
   "outputs": [],
   "source": [
    "knn.fit(X_train,y_train)"
   ]
  },
  {
   "cell_type": "code",
   "execution_count": 36,
   "id": "6e744d03-e547-494a-b95c-b3fcd21a19df",
   "metadata": {},
   "outputs": [],
   "source": [
    "y_pred=knn.predict(X_test)"
   ]
  },
  {
   "cell_type": "code",
   "execution_count": 37,
   "id": "00e4d509-3349-4ed3-aedf-a06550936c5f",
   "metadata": {},
   "outputs": [],
   "source": [
    "from sklearn.metrics import accuracy_score"
   ]
  },
  {
   "cell_type": "code",
   "execution_count": 38,
   "id": "efa28ebe-1ac0-4264-9461-6dff06b2d3cf",
   "metadata": {},
   "outputs": [
    {
     "name": "stdout",
     "output_type": "stream",
     "text": [
      "0.955\n"
     ]
    }
   ],
   "source": [
    "print(accuracy_score(y_test,y_pred))"
   ]
  },
  {
   "cell_type": "code",
   "execution_count": 31,
   "id": "e9f19036-17c9-463a-90c2-7609a1fd9915",
   "metadata": {},
   "outputs": [
    {
     "data": {
      "text/plain": [
       "array([-1.4818759 , -1.27177719,  0.22453858])"
      ]
     },
     "execution_count": 31,
     "metadata": {},
     "output_type": "execute_result"
    }
   ],
   "source": [
    "X_test[0]"
   ]
  },
  {
   "cell_type": "code",
   "execution_count": 32,
   "id": "c697872f-b695-4372-ae5c-964799d87ed1",
   "metadata": {},
   "outputs": [
    {
     "data": {
      "text/plain": [
       "0"
      ]
     },
     "execution_count": 32,
     "metadata": {},
     "output_type": "execute_result"
    }
   ],
   "source": [
    "y_test[0]"
   ]
  },
  {
   "cell_type": "code",
   "execution_count": 33,
   "id": "9c8adb6c-1042-49d6-bbae-272d94793b58",
   "metadata": {},
   "outputs": [
    {
     "data": {
      "text/plain": [
       "0"
      ]
     },
     "execution_count": 33,
     "metadata": {},
     "output_type": "execute_result"
    }
   ],
   "source": [
    "y_pred[0]"
   ]
  },
  {
   "cell_type": "code",
   "execution_count": null,
   "id": "6d44d08c-bdff-4a17-a1fa-87f1ed1166e4",
   "metadata": {},
   "outputs": [],
   "source": []
  }
 ],
 "metadata": {
  "kernelspec": {
   "display_name": "Python 3 (ipykernel)",
   "language": "python",
   "name": "python3"
  },
  "language_info": {
   "codemirror_mode": {
    "name": "ipython",
    "version": 3
   },
   "file_extension": ".py",
   "mimetype": "text/x-python",
   "name": "python",
   "nbconvert_exporter": "python",
   "pygments_lexer": "ipython3",
   "version": "3.11.7"
  }
 },
 "nbformat": 4,
 "nbformat_minor": 5
}
